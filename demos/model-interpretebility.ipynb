{
 "cells": [
  {
   "cell_type": "markdown",
   "metadata": {},
   "source": [
    "Copyright (c) Microsoft Corporation. All rights reserved.\n",
    "\n",
    "Licensed under the MIT License."
   ]
  },
  {
   "cell_type": "markdown",
   "metadata": {},
   "source": [
    "![Impressions](https://PixelServer20190423114238.azurewebsites.net/api/impressions/MachineLearningNotebooks/how-to-use-azureml/explain-model/azure-integration/remote-explanation/explain-model-on-amlcompute.png)"
   ]
  },
  {
   "cell_type": "markdown",
   "metadata": {},
   "source": [
    "# Train and explain models remotely via Azure Machine Learning Compute\n",
    "\n",
    "\n",
    "_**This notebook showcases how to use the Azure Machine Learning Interpretability SDK to train and explain a regression model remotely on an Azure Machine Leanrning Compute Target (AMLCompute).**_\n",
    "\n",
    "\n",
    "\n",
    "\n",
    "## Table of Contents\n",
    "\n",
    "1. [Introduction](#Introduction)\n",
    "1. [Setup](#Setup)\n",
    "    1. Initialize a Workspace\n",
    "    1. Create an Experiment\n",
    "    1. Introduction to AmlCompute\n",
    "    1. Submit an AmlCompute run in a few different ways\n",
    "        1. Option 1: Provision as a run based compute target \n",
    "        1. Option 2: Provision as a persistent compute target (Basic)\n",
    "        1. Option 3: Provision as a persistent compute target (Advanced)\n",
    "1. Additional operations to perform on AmlCompute\n",
    "1. [Download model explanations from Azure Machine Learning Run History](#Download)\n",
    "1. [Visualize explanations](#Visualize)\n",
    "1. [Next steps](#Next)"
   ]
  },
  {
   "cell_type": "markdown",
   "metadata": {},
   "source": [
    "## Introduction\n",
    "\n",
    "This notebook showcases how to train and explain a regression model remotely via Azure Machine Learning Compute (AMLCompute), and download the calculated explanations locally for visualization.\n",
    "It demonstrates the API calls that you need to make to submit a run for training and explaining a model to AMLCompute, download the compute explanations remotely, and visualizing the global and local explanations via a visualization dashboard that provides an interactive way of discovering patterns in model predictions and downloaded explanations.\n",
    "\n",
    "We will showcase one of the tabular data explainers: TabularExplainer (SHAP).\n",
    "\n",
    "Problem: Boston Housing Price Prediction with scikit-learn (train a model and run an explainer remotely via AMLCompute, and download and visualize the remotely-calculated explanations.)\n",
    "\n",
    "| ![explanations-run-history](./img/explanations-run-history.PNG) |\n",
    "|:--:|\n"
   ]
  },
  {
   "cell_type": "markdown",
   "metadata": {},
   "source": [
    "## Setup\n",
    "If you are using an Azure Machine Learning Notebook VM, you are all set. Otherwise, make sure you go through the [configuration notebook](../../../configuration.ipynb) first if you haven't.\n",
    "\n",
    "\n",
    "If you are using Jupyter notebooks, the extensions should be installed automatically with the package.\n",
    "If you are using Jupyter Labs run the following command:\n",
    "```\n",
    "(myenv) $ jupyter labextension install @jupyter-widgets/jupyterlab-manager\n",
    "```\n"
   ]
  },
  {
   "cell_type": "code",
   "execution_count": null,
   "metadata": {},
   "outputs": [],
   "source": [
    "# Check core SDK version number\n",
    "import azureml.core\n",
    "\n",
    "print(\"SDK version:\", azureml.core.VERSION)"
   ]
  },
  {
   "cell_type": "markdown",
   "metadata": {},
   "source": [
    "## Initialize a Workspace\n",
    "\n",
    "Initialize a workspace object from persisted configuration"
   ]
  },
  {
   "cell_type": "code",
   "execution_count": null,
   "metadata": {
    "tags": [
     "create workspace"
    ]
   },
   "outputs": [],
   "source": [
    "from azureml.core import Workspace\n",
    "\n",
    "ws = Workspace.from_config()\n",
    "print(ws.name, ws.resource_group, ws.location, ws.subscription_id, sep='\\n')"
   ]
  },
  {
   "cell_type": "markdown",
   "metadata": {},
   "source": [
    "## Create An Experiment\n",
    "\n",
    "**Experiment** is a logical container in an Azure ML Workspace. It hosts run records which can include run metrics and output artifacts from your experiments."
   ]
  },
  {
   "cell_type": "code",
   "execution_count": null,
   "metadata": {},
   "outputs": [],
   "source": [
    "from azureml.core import Experiment\n",
    "experiment_name = 'explainer-remote-run-on-amlcompute'\n",
    "experiment = Experiment(workspace=ws, name=experiment_name)"
   ]
  },
  {
   "cell_type": "markdown",
   "metadata": {},
   "source": [
    "## Introduction to AmlCompute\n",
    "\n",
    "Azure Machine Learning Compute is managed compute infrastructure that allows the user to easily create single to multi-node compute of the appropriate VM Family. It is created **within your workspace region** and is a resource that can be used by other users in your workspace. It autoscales by default to the max_nodes, when a job is submitted, and executes in a containerized environment packaging the dependencies as specified by the user. \n",
    "\n",
    "Since it is managed compute, job scheduling and cluster management are handled internally by Azure Machine Learning service. \n",
    "\n",
    "For more information on Azure Machine Learning Compute, please read [this article](https://docs.microsoft.com/azure/machine-learning/service/how-to-set-up-training-targets#amlcompute)\n",
    "\n",
    "If you are an existing BatchAI customer who is migrating to Azure Machine Learning, please read [this article](https://aka.ms/batchai-retirement)\n",
    "\n",
    "**Note**: As with other Azure services, there are limits on certain resources (for eg. AmlCompute quota) associated with the Azure Machine Learning service. Please read [this article](https://docs.microsoft.com/azure/machine-learning/service/how-to-manage-quotas) on the default limits and how to request more quota.\n",
    "\n",
    "\n",
    "The training script `train_explain.py` is already created for you. Let's have a look."
   ]
  },
  {
   "cell_type": "markdown",
   "metadata": {},
   "source": [
    "## Submit an AmlCompute run in a few different ways\n",
    "\n",
    "First lets check which VM families are available in your region. Azure is a regional service and some specialized SKUs (especially GPUs) are only available in certain regions. Since AmlCompute is created in the region of your workspace, we will use the supported_vms () function to see if the VM family we want to use ('STANDARD_D2_V2') is supported.\n",
    "\n",
    "You can also pass a different region to check availability and then re-create your workspace in that region through the [configuration notebook](../../../configuration.ipynb)"
   ]
  },
  {
   "cell_type": "code",
   "execution_count": null,
   "metadata": {},
   "outputs": [],
   "source": [
    "from azureml.core.compute import ComputeTarget, AmlCompute\n",
    "\n",
    "# AmlCompute.supported_vmsizes(workspace=ws)\n",
    "# AmlCompute.supported_vmsizes(workspace=ws, location='southcentralus')"
   ]
  },
  {
   "cell_type": "markdown",
   "metadata": {},
   "source": [
    "## Create training script"
   ]
  },
  {
   "cell_type": "code",
   "execution_count": null,
   "metadata": {},
   "outputs": [],
   "source": [
    "%%writefile train_explain.py\n",
    "\n",
    "from sklearn import datasets\n",
    "from sklearn.linear_model import Ridge\n",
    "from azureml.explain.model.tabular_explainer import TabularExplainer\n",
    "from azureml.contrib.explain.model.explanation.explanation_client import ExplanationClient\n",
    "from sklearn.model_selection import train_test_split\n",
    "from azureml.core.run import Run\n",
    "from sklearn.externals import joblib\n",
    "import os\n",
    "import numpy as np\n",
    "\n",
    "OUTPUT_DIR = './outputs/'\n",
    "os.makedirs(OUTPUT_DIR, exist_ok=True)\n",
    "\n",
    "boston_data = datasets.load_boston()\n",
    "\n",
    "run = Run.get_context()\n",
    "client = ExplanationClient.from_run(run)\n",
    "\n",
    "X_train, X_test, y_train, y_test = train_test_split(boston_data.data,\n",
    "                                                    boston_data.target,\n",
    "                                                    test_size=0.2,\n",
    "                                                    random_state=0)\n",
    "\n",
    "# write x_test out as a pickle file for later visualization\n",
    "x_test_pkl = 'x_test.pkl'\n",
    "\n",
    "with open(x_test_pkl, 'wb') as file:\n",
    "    joblib.dump(value=X_test, filename=os.path.join(OUTPUT_DIR, x_test_pkl))\n",
    "run.upload_file('x_test_boston_housing.pkl', os.path.join(OUTPUT_DIR, x_test_pkl))\n",
    "\n",
    "\n",
    "alpha = 0.5\n",
    "\n",
    "# Use Ridge algorithm to create a regression model\n",
    "reg = Ridge(alpha)\n",
    "model = reg.fit(X_train, y_train)\n",
    "\n",
    "preds = reg.predict(X_test)\n",
    "run.log('alpha', alpha)\n",
    "\n",
    "model_file_name = 'ridge_{0:.2f}.pkl'.format(alpha)\n",
    "# save model in the outputs folder so it automatically get uploaded\n",
    "with open(model_file_name, 'wb') as file:\n",
    "    joblib.dump(value=reg, filename=os.path.join(OUTPUT_DIR,\n",
    "                                                 model_file_name))\n",
    "\n",
    "# register the model\n",
    "run.upload_file('original_model.pkl', os.path.join('./outputs/', model_file_name))\n",
    "original_model = run.register_model(model_name='model_explain_model_on_amlcomp',\n",
    "                                    model_path='original_model.pkl')\n",
    "\n",
    "# Explain predictions on your local machine\n",
    "tabular_explainer = TabularExplainer(model, X_train, features=boston_data.feature_names)\n",
    "\n",
    "# Explain overall model predictions (global explanation)\n",
    "# Passing in test dataset for evaluation examples - note it must be a representative sample of the original data\n",
    "# x_train can be passed as well, but with more examples explanations it will\n",
    "# take longer although they may be more accurate\n",
    "global_explanation = tabular_explainer.explain_global(X_test)\n",
    "\n",
    "# Uploading model explanation data for storage or visualization in webUX\n",
    "# The explanation can then be downloaded on any compute\n",
    "comment = 'Global explanation on regression model trained on boston dataset'\n",
    "client.upload_model_explanation(global_explanation, comment=comment)"
   ]
  },
  {
   "cell_type": "markdown",
   "metadata": {},
   "source": [
    "### Create project directory\n",
    "\n",
    "Create a directory that will contain all the necessary code from your local machine that you will need access to on the remote resource. This includes the training script, and any additional files your training script depends on"
   ]
  },
  {
   "cell_type": "code",
   "execution_count": null,
   "metadata": {},
   "outputs": [],
   "source": [
    "import os\n",
    "import shutil\n",
    "\n",
    "project_folder = './explainer-remote-run-on-amlcompute'\n",
    "os.makedirs(project_folder, exist_ok=True)\n",
    "shutil.copy('train_explain.py', project_folder)"
   ]
  },
  {
   "cell_type": "markdown",
   "metadata": {},
   "source": [
    "### Provision as a run based compute target\n",
    "\n",
    "You can provision AmlCompute as a compute target at run-time. In this case, the compute is auto-created for your run, scales up to max_nodes that you specify, and then **deleted automatically** after the run completes."
   ]
  },
  {
   "cell_type": "code",
   "execution_count": null,
   "metadata": {},
   "outputs": [],
   "source": [
    "from azureml.core.runconfig import RunConfiguration\n",
    "from azureml.core.conda_dependencies import CondaDependencies\n",
    "from azureml.core.runconfig import DEFAULT_CPU_IMAGE\n",
    "\n",
    "# create a new runconfig object\n",
    "run_config = RunConfiguration()\n",
    "\n",
    "# signal that you want to use AmlCompute to execute script.\n",
    "run_config.target = \"amlcompute\"\n",
    "\n",
    "# AmlCompute will be created in the same region as workspace\n",
    "# Set vm size for AmlCompute\n",
    "run_config.amlcompute.vm_size = 'STANDARD_D2_V2'\n",
    "\n",
    "# enable Docker \n",
    "run_config.environment.docker.enabled = True\n",
    "\n",
    "# set Docker base image to the default CPU-based image\n",
    "run_config.environment.docker.base_image = DEFAULT_CPU_IMAGE\n",
    "\n",
    "# use conda_dependencies.yml to create a conda environment in the Docker image for execution\n",
    "run_config.environment.python.user_managed_dependencies = False\n",
    "\n",
    "azureml_pip_packages = [\n",
    "    'azureml-defaults', 'azureml-contrib-explain-model', 'azureml-core', 'azureml-telemetry',\n",
    "    'azureml-explain-model', 'sklearn-pandas', 'azureml-dataprep'\n",
    "]\n",
    "\n",
    "# specify CondaDependencies obj\n",
    "run_config.environment.python.conda_dependencies = CondaDependencies.create(conda_packages=['scikit-learn'],\n",
    "                                                                            pip_packages=azureml_pip_packages)\n",
    "\n",
    "# Now submit a run on AmlCompute\n",
    "from azureml.core.script_run_config import ScriptRunConfig\n",
    "\n",
    "script_run_config = ScriptRunConfig(source_directory=project_folder,\n",
    "                                    script='train_explain.py',\n",
    "                                    run_config=run_config)\n",
    "\n",
    "run = experiment.submit(script_run_config)\n",
    "\n",
    "# Show run details\n",
    "run"
   ]
  },
  {
   "cell_type": "markdown",
   "metadata": {},
   "source": [
    "Note: if you need to cancel a run, you can follow [these instructions](https://aka.ms/aml-docs-cancel-run)."
   ]
  },
  {
   "cell_type": "code",
   "execution_count": null,
   "metadata": {
    "scrolled": true
   },
   "outputs": [],
   "source": [
    "%%time\n",
    "# Shows output of the run on stdout.\n",
    "run.wait_for_completion(show_output=True)"
   ]
  },
  {
   "cell_type": "markdown",
   "metadata": {},
   "source": [
    "## Download \n",
    "1. Download model explanation data."
   ]
  },
  {
   "cell_type": "code",
   "execution_count": null,
   "metadata": {},
   "outputs": [],
   "source": [
    "from azureml.contrib.explain.model.explanation.explanation_client import ExplanationClient\n",
    "\n",
    "# Get model explanation data\n",
    "client = ExplanationClient.from_run(run)\n",
    "global_explanation = client.download_model_explanation()\n",
    "local_importance_values = global_explanation.local_importance_values\n",
    "expected_values = global_explanation.expected_values"
   ]
  },
  {
   "cell_type": "code",
   "execution_count": null,
   "metadata": {},
   "outputs": [],
   "source": [
    "# Or you can use the saved run.id to retrive the feature importance values\n",
    "client = ExplanationClient.from_run_id(ws, experiment_name, run.id)\n",
    "global_explanation = client.download_model_explanation()\n",
    "local_importance_values = global_explanation.local_importance_values\n",
    "expected_values = global_explanation.expected_values"
   ]
  },
  {
   "cell_type": "code",
   "execution_count": null,
   "metadata": {},
   "outputs": [],
   "source": [
    "# Get the top k (e.g., 4) most important features with their importance values\n",
    "global_explanation_topk = client.download_model_explanation(top_k=4)\n",
    "global_importance_values = global_explanation_topk.get_ranked_global_values()\n",
    "global_importance_names = global_explanation_topk.get_ranked_global_names()"
   ]
  },
  {
   "cell_type": "code",
   "execution_count": null,
   "metadata": {},
   "outputs": [],
   "source": [
    "print('global importance: \\n{}'.format(dict(zip(global_importance_names, global_importance_values))))"
   ]
  },
  {
   "cell_type": "markdown",
   "metadata": {},
   "source": [
    "2. Download model file."
   ]
  },
  {
   "cell_type": "code",
   "execution_count": null,
   "metadata": {},
   "outputs": [],
   "source": [
    "# retrieve model for visualization and deployment\n",
    "from azureml.core.model import Model\n",
    "from sklearn.externals import joblib\n",
    "\n",
    "original_model = Model(ws, 'model_explain_model_on_amlcomp')\n",
    "model_path = original_model.download(exist_ok=True)\n",
    "original_model = joblib.load(model_path)"
   ]
  },
  {
   "cell_type": "markdown",
   "metadata": {},
   "source": [
    "3. Download test dataset."
   ]
  },
  {
   "cell_type": "code",
   "execution_count": null,
   "metadata": {},
   "outputs": [],
   "source": [
    "# retrieve x_test for visualization\n",
    "from sklearn.externals import joblib\n",
    "x_test_path = './x_test.pkl'\n",
    "# run.download_file('x_tes.pkl', output_file_path=x_test_path)"
   ]
  },
  {
   "cell_type": "code",
   "execution_count": null,
   "metadata": {},
   "outputs": [],
   "source": [
    "x_test = joblib.load('x_test.pkl')"
   ]
  },
  {
   "cell_type": "markdown",
   "metadata": {},
   "source": [
    "## Visualize\n",
    "Load the visualization dashboard"
   ]
  },
  {
   "cell_type": "code",
   "execution_count": null,
   "metadata": {},
   "outputs": [],
   "source": [
    "from azureml.contrib.explain.model.visualize import ExplanationDashboard"
   ]
  },
  {
   "cell_type": "code",
   "execution_count": null,
   "metadata": {
    "scrolled": true
   },
   "outputs": [],
   "source": [
    "ExplanationDashboard(global_explanation, original_model, x_test)"
   ]
  },
  {
   "cell_type": "markdown",
   "metadata": {},
   "source": [
    "## Next\n",
    "Learn about other use cases of the explain package on a:\n",
    "1. [Training time: regression problem](../../tabular-data/explain-binary-classification-local.ipynb)       \n",
    "1. [Training time: binary classification problem](../../tabular-data/explain-binary-classification-local.ipynb)\n",
    "1. [Training time: multiclass classification problem](../../tabular-data/explain-multiclass-classification-local.ipynb)\n",
    "1. Explain models with engineered features:\n",
    "    1. [Simple feature transformations](../../tabular-data/simple-feature-transformations-explain-local.ipynb)\n",
    "    1. [Advanced feature transformations](../../tabular-data/advanced-feature-transformations-explain-local.ipynb)\n",
    "1. [Save model explanations via Azure Machine Learning Run History](../run-history/save-retrieve-explanations-run-history.ipynb)\n",
    "1. Inferencing time: deploy a classification model and explainer:\n",
    "    1. [Deploy a locally-trained model and explainer](../scoring-time/train-explain-model-locally-and-deploy.ipynb)\n",
    "    1. [Deploy a remotely-trained model and explainer](../scoring-time/train-explain-model-on-amlcompute-and-deploy.ipynb)"
   ]
  },
  {
   "cell_type": "code",
   "execution_count": null,
   "metadata": {},
   "outputs": [],
   "source": []
  }
 ],
 "metadata": {
  "authors": [
   {
    "name": "mesameki"
   }
  ],
  "kernelspec": {
   "display_name": "Python 3.6 - AzureML",
   "language": "python",
   "name": "python3-azureml"
  },
  "language_info": {
   "codemirror_mode": {
    "name": "ipython",
    "version": 3
   },
   "file_extension": ".py",
   "mimetype": "text/x-python",
   "name": "python",
   "nbconvert_exporter": "python",
   "pygments_lexer": "ipython3",
   "version": "3.6.2"
  },
  "nteract": {
   "version": "nteract-front-end@1.0.0"
  }
 },
 "nbformat": 4,
 "nbformat_minor": 2
}
